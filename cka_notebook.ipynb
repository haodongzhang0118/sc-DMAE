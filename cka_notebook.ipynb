{
 "cells": [
  {
   "cell_type": "code",
   "execution_count": 40,
   "id": "eb8deb7c",
   "metadata": {},
   "outputs": [],
   "source": [
    "import numpy as np\n",
    "import pandas as pd\n",
    "import matplotlib.pyplot as plt"
   ]
  },
  {
   "cell_type": "code",
   "execution_count": 18,
   "id": "4abbe843",
   "metadata": {},
   "outputs": [],
   "source": [
    "def linear_CKA(X, Y):\n",
    "    \"\"\"\n",
    "    Compute linear CKA between two NumPy matrices.\n",
    "    \"\"\"\n",
    "    # Center the representations\n",
    "    X = X - X.mean(axis=0, keepdims=True)\n",
    "    Y = Y - Y.mean(axis=0, keepdims=True)\n",
    "\n",
    "    # Compute the Frobenius norms\n",
    "    dot_product_similarity = np.linalg.norm(X @ Y.T, 'fro') ** 2\n",
    "    normalization = np.linalg.norm(X @ X.T, 'fro') * np.linalg.norm(Y @ Y.T, 'fro')\n",
    "\n",
    "    return dot_product_similarity / normalization\n"
   ]
  },
  {
   "cell_type": "code",
   "execution_count": 43,
   "id": "7d93477d",
   "metadata": {},
   "outputs": [
    {
     "name": "stdout",
     "output_type": "stream",
     "text": [
      "0.27916378\n",
      "0.9049649\n",
      "0.97800624\n",
      "0.99067014\n",
      "0.99310815\n"
     ]
    }
   ],
   "source": [
    "p_to_student_dir = '/Volumes/AK_SSD/sc-DMAE_AK/CKA_embeddings/UWL_student/checkpoints/Spleen'\n",
    "p_to_teacher_dir = '/Volumes/AK_SSD/sc-DMAE_AK/CKA_embeddings/UWL_teacher/checkpoints/Spleen'\n",
    "\n",
    "n_iter = 19\n",
    "epochs = [19,39,59,79,99]\n",
    "\n",
    "cka_results = np.zeros_like(epochs, dtype=float)\n",
    "\n",
    "for e in range(len(epochs)):\n",
    "    epoch_avg = 0\n",
    "    for i in range(n_iter):\n",
    "        p_student = f'{p_to_student_dir}/{i}/embedding_{epochs[e]}.npy'\n",
    "        p_teacher = f'{p_to_teacher_dir}/{i}/embedding_{epochs[e]}.npy'\n",
    "        embeddings_student = np.load(p_student)\n",
    "        embeddings_teacher = np.load(p_teacher)\n",
    "        cka = linear_CKA(embeddings_student, embeddings_teacher)\n",
    "        epoch_avg += cka\n",
    "    epoch_avg = epoch_avg/n_iter\n",
    "    print(epoch_avg)\n",
    "    cka_results[e] = epoch_avg\n",
    "\n"
   ]
  },
  {
   "cell_type": "code",
   "execution_count": 44,
   "id": "8296bb17",
   "metadata": {},
   "outputs": [
    {
     "name": "stdout",
     "output_type": "stream",
     "text": [
      "[0.27916378 0.90496492 0.97800624 0.99067014 0.99310815]\n"
     ]
    }
   ],
   "source": [
    "print(cka_results)\n"
   ]
  },
  {
   "cell_type": "code",
   "execution_count": 46,
   "id": "84d84208",
   "metadata": {},
   "outputs": [
    {
     "data": {
      "image/png": "[encoded data removed]",
      "text/plain": [
       "<Figure size 640x480 with 1 Axes>"
      ]
     },
     "metadata": {},
     "output_type": "display_data"
    }
   ],
   "source": [
    "df = pd.DataFrame({\n",
    "    'Epoch': epochs,\n",
    "    'CKA': cka_results\n",
    "})\n",
    "\n",
    "# Set 'Epoch' as index if you want cleaner x-axis labels\n",
    "df.set_index('Epoch').plot(kind='bar', legend=False)\n",
    "plt.ylabel(\"CKA Score\")\n",
    "plt.title(\"CKA Similarity Over Time with UWL\")\n",
    "plt.ylim(0, 1)\n",
    "plt.show()"
   ]
  },
  {
   "cell_type": "code",
   "execution_count": null,
   "id": "d4faeece",
   "metadata": {},
   "outputs": [],
   "source": []
  }
 ],
 "metadata": {
  "kernelspec": {
   "display_name": "dl_genomics_env",
   "language": "python",
   "name": "python3"
  },
  "language_info": {
   "codemirror_mode": {
    "name": "ipython",
    "version": 3
   },
   "file_extension": ".py",
   "mimetype": "text/x-python",
   "name": "python",
   "nbconvert_exporter": "python",
   "pygments_lexer": "ipython3",
   "version": "3.13.2"
  }
 },
 "nbformat": 4,
 "nbformat_minor": 5
}
